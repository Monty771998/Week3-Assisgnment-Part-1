{
 "cells": [
  {
   "cell_type": "markdown",
   "id": "54b175c5-851c-483d-888d-4d00856b3eb0",
   "metadata": {},
   "source": [
    "Q1. Which keyword is used to create a function? Create a function to return a list of odd numbers in the\n",
    "range of 1 to 25."
   ]
  },
  {
   "cell_type": "code",
   "execution_count": null,
   "id": "01030e42-c56b-4f14-a92c-45012ce2329d",
   "metadata": {},
   "outputs": [],
   "source": [
    "def keyword is used to create a function."
   ]
  },
  {
   "cell_type": "code",
   "execution_count": 15,
   "id": "c17aba64-277d-4b2d-936f-6867c7a65980",
   "metadata": {},
   "outputs": [],
   "source": [
    "def odd_number() :\n",
    "    l = []\n",
    "    for i in range(1,26) :\n",
    "        if i%2 ==1 :\n",
    "            l.append(i)\n",
    "    return l"
   ]
  },
  {
   "cell_type": "code",
   "execution_count": 16,
   "id": "632c1823-b97c-41c4-895f-5c3e96945555",
   "metadata": {},
   "outputs": [
    {
     "data": {
      "text/plain": [
       "[1, 3, 5, 7, 9, 11, 13, 15, 17, 19, 21, 23, 25]"
      ]
     },
     "execution_count": 16,
     "metadata": {},
     "output_type": "execute_result"
    }
   ],
   "source": [
    "odd_number()"
   ]
  },
  {
   "cell_type": "code",
   "execution_count": null,
   "id": "5944fdd2-84cf-45bd-aaaa-b62f1cb1a2e9",
   "metadata": {},
   "outputs": [],
   "source": []
  },
  {
   "cell_type": "markdown",
   "id": "3209661b-f917-45cc-958a-6a770d270510",
   "metadata": {},
   "source": [
    "Q2. Why *args and **kwargs is used in some functions? Create a function each for *args and **kwargs\n",
    "to demonstrate their use."
   ]
  },
  {
   "cell_type": "code",
   "execution_count": null,
   "id": "abb9c040-e131-41d2-9339-944d1323c987",
   "metadata": {},
   "outputs": [],
   "source": [
    "*args is used for giving n no. of input in function and it return the value in tuple while **kwargs\n",
    "is used for giving multiple key-value pairs and return the value in dictionary.Example"
   ]
  },
  {
   "cell_type": "code",
   "execution_count": 27,
   "id": "13182fce-e581-45a2-9969-a97cdfda7da2",
   "metadata": {},
   "outputs": [],
   "source": [
    "def type(*args) :\n",
    "    return args"
   ]
  },
  {
   "cell_type": "code",
   "execution_count": 28,
   "id": "26b84efe-7975-42d0-b19f-bcc2e0c3c3f2",
   "metadata": {},
   "outputs": [
    {
     "data": {
      "text/plain": [
       "(34, 53, 22, [2, 4, 6], 'monu sharma')"
      ]
     },
     "execution_count": 28,
     "metadata": {},
     "output_type": "execute_result"
    }
   ],
   "source": [
    "type(34,53,22,[2,4,6],\"monu sharma\")"
   ]
  },
  {
   "cell_type": "code",
   "execution_count": 36,
   "id": "2d69b1c9-6c69-4ac1-b37b-0097021bd348",
   "metadata": {},
   "outputs": [],
   "source": [
    "def type1(**kwargs) :\n",
    "    return kwargs"
   ]
  },
  {
   "cell_type": "code",
   "execution_count": 39,
   "id": "9a1d6da3-eca4-44b9-ac13-736fd2c2de4c",
   "metadata": {},
   "outputs": [
    {
     "data": {
      "text/plain": [
       "{'n': [234, 564, 23], 'a': 23, 'c': 'delhi'}"
      ]
     },
     "execution_count": 39,
     "metadata": {},
     "output_type": "execute_result"
    }
   ],
   "source": [
    "type1(n = [234,564,23] , a = 23, c = \"delhi\")"
   ]
  },
  {
   "cell_type": "code",
   "execution_count": null,
   "id": "34d703a1-9b00-4341-a832-0e746838d07b",
   "metadata": {},
   "outputs": [],
   "source": []
  },
  {
   "cell_type": "markdown",
   "id": "805abc52-d68f-4da3-b00c-788b15fa4dac",
   "metadata": {},
   "source": [
    "Q3. What is an iterator in python? Name the method used to initialise the iterator object and the method\n",
    "used for iteration. Use these methods to print the first five elements of the given list [2, 4, 6, 8, 10, 12, 14,\n",
    "16, 18, 20]."
   ]
  },
  {
   "cell_type": "code",
   "execution_count": null,
   "id": "d79bf0e5-3f1c-46a2-b50d-a43369481e6c",
   "metadata": {},
   "outputs": [],
   "source": [
    "iterator in python is object used to iterate over sequence of data.\n",
    "iter() method is used for initialize the iterator object and next() method is used for iteration"
   ]
  },
  {
   "cell_type": "code",
   "execution_count": 55,
   "id": "fb8f1775-6be1-42fa-b811-f3b3c0588beb",
   "metadata": {},
   "outputs": [],
   "source": [
    "l = [2,4,6,8,10,12,14,16,18,20]\n",
    "def first_five_element() :\n",
    "    l1 = iter(l)\n",
    "    for i in range(5) :\n",
    "        print(next(l1))"
   ]
  },
  {
   "cell_type": "code",
   "execution_count": 56,
   "id": "93a4c20a-4946-43e6-82ae-197ddb403bf4",
   "metadata": {},
   "outputs": [
    {
     "name": "stdout",
     "output_type": "stream",
     "text": [
      "2\n",
      "4\n",
      "6\n",
      "8\n",
      "10\n"
     ]
    }
   ],
   "source": [
    "first_five_element()"
   ]
  },
  {
   "cell_type": "code",
   "execution_count": null,
   "id": "24e681d8-0858-4e75-9dd6-589948718a30",
   "metadata": {},
   "outputs": [],
   "source": []
  },
  {
   "cell_type": "markdown",
   "id": "f325fa9f-94f0-4bd0-9e97-19a53f624582",
   "metadata": {},
   "source": [
    "Q4. What is a generator function in python? Why yield keyword is used? Give an example of a generator\n",
    "function."
   ]
  },
  {
   "cell_type": "code",
   "execution_count": null,
   "id": "b9cca8b3-84d6-4e0e-947c-c6c240147425",
   "metadata": {},
   "outputs": [],
   "source": [
    "Generator function is special function that return iterator and yield keyword is used for giving\n",
    "value one by one,example"
   ]
  },
  {
   "cell_type": "code",
   "execution_count": 4,
   "id": "31b3d2fb-54e8-4b50-9cf1-82c9e27056ed",
   "metadata": {},
   "outputs": [],
   "source": [
    "def first_5sequarednum() :\n",
    "    '''function of giving first 5 squared number'''\n",
    "    for i in range(5) :\n",
    "        yield i**2"
   ]
  },
  {
   "cell_type": "code",
   "execution_count": 5,
   "id": "b4e17246-f26e-41aa-8b49-b1e57a5c5cba",
   "metadata": {},
   "outputs": [],
   "source": [
    "sqr1 = first_5sequarednum()"
   ]
  },
  {
   "cell_type": "code",
   "execution_count": 6,
   "id": "8e10ca4c-7964-48e2-9132-fecdcedee7ca",
   "metadata": {},
   "outputs": [
    {
     "name": "stdout",
     "output_type": "stream",
     "text": [
      "0\n",
      "1\n",
      "4\n",
      "9\n",
      "16\n"
     ]
    }
   ],
   "source": [
    "for i in range(5) :\n",
    "    print(next(sqr1))"
   ]
  },
  {
   "cell_type": "code",
   "execution_count": null,
   "id": "a8903c9d-13da-49c0-ab68-7300073c306d",
   "metadata": {},
   "outputs": [],
   "source": []
  },
  {
   "cell_type": "markdown",
   "id": "ed089f70-e4b3-4af5-8527-ae1bfea4e4d3",
   "metadata": {},
   "source": [
    "Q5. Create a generator function for prime numbers less than 1000. Use the next() method to print the\n",
    "first 20 prime numbers."
   ]
  },
  {
   "cell_type": "code",
   "execution_count": 23,
   "id": "eb9634c2-2cd9-4d97-a924-8971b11a2130",
   "metadata": {},
   "outputs": [],
   "source": [
    "def prime_number():\n",
    "    for num in range(2,1000) :\n",
    "        for i in range(2,num) :\n",
    "            if num%i == 0 :\n",
    "                break\n",
    "        else :\n",
    "            yield num\n",
    "                \n",
    "   "
   ]
  },
  {
   "cell_type": "code",
   "execution_count": 39,
   "id": "aa5843fb-f156-4b74-a72f-78aa29b96933",
   "metadata": {},
   "outputs": [],
   "source": [
    "prime_generator = prime_number()"
   ]
  },
  {
   "cell_type": "code",
   "execution_count": 40,
   "id": "0d4bbf00-23cb-48d7-abb9-ccedba030d80",
   "metadata": {},
   "outputs": [
    {
     "name": "stdout",
     "output_type": "stream",
     "text": [
      "2\n",
      "3\n",
      "5\n",
      "7\n",
      "11\n",
      "13\n",
      "17\n",
      "19\n",
      "23\n",
      "29\n",
      "31\n",
      "37\n",
      "41\n",
      "43\n",
      "47\n",
      "53\n",
      "59\n",
      "61\n",
      "67\n",
      "71\n"
     ]
    }
   ],
   "source": [
    "for i in range(20) :\n",
    "    print(next(prime_generator))"
   ]
  },
  {
   "cell_type": "code",
   "execution_count": null,
   "id": "b6438d72-0626-4c49-9bc3-10beee92e256",
   "metadata": {},
   "outputs": [],
   "source": []
  },
  {
   "cell_type": "markdown",
   "id": "b33ef996-99fc-4089-b47b-fe50bb32aec3",
   "metadata": {},
   "source": [
    "Q6. Write a python program to print the first 10 Fibonacci numbers using a while loop."
   ]
  },
  {
   "cell_type": "code",
   "execution_count": 42,
   "id": "385e4270-094a-48d7-ad1b-27d8f18d6808",
   "metadata": {},
   "outputs": [
    {
     "name": "stdout",
     "output_type": "stream",
     "text": [
      "0\n",
      "1\n",
      "1\n",
      "2\n",
      "3\n",
      "5\n",
      "8\n",
      "13\n",
      "21\n",
      "34\n"
     ]
    }
   ],
   "source": [
    "a,b = 0,1\n",
    "num = 0\n",
    "while num<10 :\n",
    "    print(a)\n",
    "    a,b=b,a+b\n",
    "    num+=1\n",
    "    \n",
    "    "
   ]
  },
  {
   "cell_type": "code",
   "execution_count": null,
   "id": "beb32ed3-74df-40d5-b764-be485fab72ed",
   "metadata": {},
   "outputs": [],
   "source": []
  },
  {
   "cell_type": "markdown",
   "id": "117eaf3d-0934-4a8e-aa63-b6ef8c8fd7ba",
   "metadata": {},
   "source": [
    "Q7. Write a List Comprehension to iterate through the given string: ‘pwskills’.\n",
    "\n",
    "Expected output: ['p', 'w', 's', 'k', 'i', 'l', 'l', 's'] "
   ]
  },
  {
   "cell_type": "code",
   "execution_count": 44,
   "id": "8003d85f-d409-44b2-b0e9-b5e367eaaf6d",
   "metadata": {},
   "outputs": [
    {
     "name": "stdout",
     "output_type": "stream",
     "text": [
      "['p', 'w', 's', 'k', 'i', 'l', 'l', 's']\n"
     ]
    }
   ],
   "source": [
    "strings = 'pwskills'\n",
    "output = [i for i in strings]\n",
    "print(output)"
   ]
  },
  {
   "cell_type": "code",
   "execution_count": null,
   "id": "e3358367-2870-4fcf-82fc-6d41656cbe28",
   "metadata": {},
   "outputs": [],
   "source": []
  },
  {
   "cell_type": "markdown",
   "id": "7ae9dd0d-0acf-4ec9-b6c2-d0f356d97c32",
   "metadata": {},
   "source": [
    "Q8. Write a python program to check whether a given number is Palindrome or not using a while loop."
   ]
  },
  {
   "cell_type": "code",
   "execution_count": 6,
   "id": "9122732a-987e-463a-9fd8-f279f27d0c78",
   "metadata": {},
   "outputs": [],
   "source": [
    "def is_palindrome(num) :\n",
    "    temp = num\n",
    "    rev=0\n",
    "    while temp>0 :\n",
    "        digit = temp%10\n",
    "        rev = rev*10 + digit\n",
    "        temp//=10\n",
    "    if num == rev :\n",
    "        return 'palindrome number'"
   ]
  },
  {
   "cell_type": "code",
   "execution_count": 9,
   "id": "dd1da8bc-e50b-4b9d-8e02-4adcde711f9e",
   "metadata": {},
   "outputs": [
    {
     "name": "stdin",
     "output_type": "stream",
     "text": [
      "Enter a number:  1221\n"
     ]
    },
    {
     "name": "stdout",
     "output_type": "stream",
     "text": [
      "palindrome number\n"
     ]
    }
   ],
   "source": [
    "num = int(input(\"Enter a number: \"))\n",
    "result = is_palindrome(num)\n",
    "print(result) "
   ]
  },
  {
   "cell_type": "code",
   "execution_count": null,
   "id": "fcdc95c4-c96a-490d-898b-5bb70404d27e",
   "metadata": {},
   "outputs": [],
   "source": []
  },
  {
   "cell_type": "markdown",
   "id": "4257612d-8687-4933-99ba-8b6e35f806c4",
   "metadata": {},
   "source": [
    "Q9. Write a code to print odd numbers from 1 to 100 using list comprehension"
   ]
  },
  {
   "cell_type": "code",
   "execution_count": 12,
   "id": "8115b62d-0307-40d4-921a-afc4b7236d87",
   "metadata": {},
   "outputs": [
    {
     "name": "stdout",
     "output_type": "stream",
     "text": [
      "[1, 3, 5, 7, 9, 11, 13, 15, 17, 19, 21, 23, 25, 27, 29, 31, 33, 35, 37, 39, 41, 43, 45, 47, 49, 51, 53, 55, 57, 59, 61, 63, 65, 67, 69, 71, 73, 75, 77, 79, 81, 83, 85, 87, 89, 91, 93, 95, 97, 99]\n"
     ]
    }
   ],
   "source": [
    "l = [num for num in range(1,101)]\n",
    "odd_num = [num for num in l if num%2==1]\n",
    "print(odd_num)"
   ]
  },
  {
   "cell_type": "code",
   "execution_count": null,
   "id": "9e7a4ee5-fb1d-4b41-8bf8-80764cc800a0",
   "metadata": {},
   "outputs": [],
   "source": []
  },
  {
   "cell_type": "code",
   "execution_count": null,
   "id": "a068d21c-26d2-49b1-b74a-41349594db58",
   "metadata": {},
   "outputs": [],
   "source": []
  },
  {
   "cell_type": "code",
   "execution_count": null,
   "id": "249f04b8-9186-470d-ba2a-bb96b5813553",
   "metadata": {},
   "outputs": [],
   "source": []
  },
  {
   "cell_type": "code",
   "execution_count": null,
   "id": "b8134e8b-5458-4264-a970-ee0a040e8ee4",
   "metadata": {},
   "outputs": [],
   "source": []
  }
 ],
 "metadata": {
  "kernelspec": {
   "display_name": "Python 3 (ipykernel)",
   "language": "python",
   "name": "python3"
  },
  "language_info": {
   "codemirror_mode": {
    "name": "ipython",
    "version": 3
   },
   "file_extension": ".py",
   "mimetype": "text/x-python",
   "name": "python",
   "nbconvert_exporter": "python",
   "pygments_lexer": "ipython3",
   "version": "3.10.8"
  }
 },
 "nbformat": 4,
 "nbformat_minor": 5
}
